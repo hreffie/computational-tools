{
 "cells": [
  {
   "cell_type": "markdown",
   "metadata": {},
   "source": [
    "# Mandatory Assignment 2: Sampling Customers\n",
    "\n",
    "**This is the second of three mandatory assignments to be handed in as part of the assessment for the course 02807 Computational Tools for Data Science at Technical University of Denmark, autumn 2019.**\n",
    "\n",
    "#### Practical info\n",
    "- **The assignment is to be done individually. You are under no circumstances allowed to collaborate with anyone on solving the exercises (cf. the full policy on this on the course website)**\n",
    "- **You must hand in one Jupyter notebook (this notebook) with your solution**\n",
    "- **The hand-in of the notebook is due 2019-11-10, 23:59 on DTU Inside**\n",
    "\n",
    "#### Your solution\n",
    "- **Your solution should be in Python**\n",
    "- **You may use more cells than the provided ones for your answers**\n",
    "- **You should not remove the problem statements**\n",
    "- **Your notebook should be runnable, i.e., clicking [>>] in Jupyter should generate the result that you want to be assessed**"
   ]
  },
  {
   "cell_type": "markdown",
   "metadata": {},
   "source": [
    "---\n",
    "## Introduction\n",
    "When computing group aggregates from a sample, simple random sampling does not give good results. Instead, a representative sample can be obtained by storing each record seen from a sample of the elements we group by. \n",
    "\n",
    "In this assignment you should implement this sampling method on a stream of customer spendings.\n",
    "\n",
    "### Example\n",
    "Suppose you are sampling from a stream of customer spendings. Each element of the stream consists of a customer ID and an amount. For example:\n",
    "\n",
    "`123e4567-e89b-12d3-a456-426655440000 29.99`\n",
    "\n",
    "To obtain a representative sample, you should sample some customer IDs and make sure that every occurrence of the sampled customer IDs are in your final sample. For example, if the customer ID `123e4567-e89b-12d3-a456-426655440000` is among the sampled customer IDs, every element with this ID should be in your sample. "
   ]
  },
  {
   "cell_type": "markdown",
   "metadata": {},
   "source": [
    "## Reading the stream\n",
    "The following code reads a remote file line by line. It is wrapped in a generator to make it easier to extend. You should design your algorithm to read from the generator as a stream. You may extend or modify this to fit your requirements."
   ]
  },
  {
   "cell_type": "code",
   "execution_count": 25,
   "metadata": {},
   "outputs": [],
   "source": [
    "import ssl\n",
    "import numpy as np\n",
    "import urllib\n",
    "import mmh3\n",
    "import pandas as pd\n",
    "import seaborn as sns\n",
    "\n",
    "def stream(n):\n",
    "    i = 0\n",
    "    with urllib.request.urlopen('https://files.dtu.dk/fss/public/link/public/stream/read/spending?linkToken=wkMPLdtDDyvQQw8o&itemName=spending') as f:\n",
    "        for line in f:\n",
    "            element = line.rstrip().decode(\"utf-8\")\n",
    "            yield element\n",
    "            i += 1\n",
    "            if i == n:\n",
    "                break"
   ]
  },
  {
   "cell_type": "code",
   "execution_count": 26,
   "metadata": {},
   "outputs": [],
   "source": [
    "STREAM_SIZE = 10\n",
    "customer_stream = stream(STREAM_SIZE)"
   ]
  },
  {
   "cell_type": "markdown",
   "metadata": {},
   "source": [
    "## Exercise 1\n",
    "Implement an algorithm that computes a sample from the stream. The sample must be representative of customers, i.e., you should be able to answer group aggregate questions from it.\n",
    "\n",
    "The sample size should be approximately 10% of the number of elements read from the stream.\n",
    "\n",
    "It is important that your algorithm is a streaming algorithm. This means that your algorithm should update the sample every time an element from the stream is processed, and you should also only process the stream once.\n",
    "\n",
    "### Hints\n",
    "Hint 1: Since simple random sampling is not a good idea, you should not use the reservoir sampling algorithm.\n",
    "\n",
    "Hint 2: The sample does not have to be exactly $k$ elements.\n",
    "\n",
    "Hint 3: You should use a hash function and the fact that it can be used to uniformly map elements from a large universe to a smaller domain. Murmurhash3 (`mmh3`) is a suitable hash function from strings to integers for this."
   ]
  },
  {
   "cell_type": "markdown",
   "metadata": {},
   "source": [
    "**Sampling the stream**\n",
    "In order to sample from the stream, the stream was read from generator provided through a for loop. The input stream is tab delimited, with two columns, corresponding to a string with a customer ID, and a float with the corresponding customer spend. \n",
    "The aim is to compute a sample of the stream that is representative of each customer, without having sample the entire stream, more specifically only sampling 10% of the customers in the stream.\n",
    "This is carried out by an algorithm that hashes each customerID from 0-9, with each customer having the uniformally distributed probability of 1/10 to be hashed with the value 0. If the hash value is equal to zero, the customer and its corresponding spending value is added to a list. The hashing function mmh3 is therefore utilized as a random number generator, but ensuring that the same customerID will always obtain the same hash value.\n",
    "The list is subsequently put into a dataframe, which should consist of ~10% of the customers in the stream."
   ]
  },
  {
   "cell_type": "code",
   "execution_count": 27,
   "metadata": {},
   "outputs": [],
   "source": [
    "def sample_stream(streams):\n",
    "    sample = []\n",
    "    for stream in streams:\n",
    "        customer, spend = stream.split()\n",
    "        # Hash the customers with values from 0-9. If the value of the hash is 0, keep (1/10 values)\n",
    "        if (mmh3.hash(customer) % 10 == 0):\n",
    "            sample.append([customer, float(spend)])\n",
    "\n",
    "    return pd.DataFrame(sample, columns=['Customer', 'Spend'])"
   ]
  },
  {
   "cell_type": "markdown",
   "metadata": {},
   "source": [
    "## Exercise 2\n",
    "Use the sample obtained in the previous exercise to answer the following question.\n",
    "\n",
    "- What is the average spending per customer?"
   ]
  },
  {
   "cell_type": "markdown",
   "metadata": {},
   "source": [
    "The average spending per customer is calculated by using pandas groupby function and then taking the mean for each distinct customer. The output is a list of distinct customer and their average spending value."
   ]
  },
  {
   "cell_type": "code",
   "execution_count": 28,
   "metadata": {},
   "outputs": [
    {
     "data": {
      "text/html": [
       "<div>\n",
       "<style scoped>\n",
       "    .dataframe tbody tr th:only-of-type {\n",
       "        vertical-align: middle;\n",
       "    }\n",
       "\n",
       "    .dataframe tbody tr th {\n",
       "        vertical-align: top;\n",
       "    }\n",
       "\n",
       "    .dataframe thead th {\n",
       "        text-align: right;\n",
       "    }\n",
       "</style>\n",
       "<table border=\"1\" class=\"dataframe\">\n",
       "  <thead>\n",
       "    <tr style=\"text-align: right;\">\n",
       "      <th></th>\n",
       "      <th>Spend</th>\n",
       "    </tr>\n",
       "    <tr>\n",
       "      <th>Customer</th>\n",
       "      <th></th>\n",
       "    </tr>\n",
       "  </thead>\n",
       "  <tbody>\n",
       "    <tr>\n",
       "      <th>00a877ab-193b-462e-82a9-09f363beb5c5</th>\n",
       "      <td>103.222119</td>\n",
       "    </tr>\n",
       "    <tr>\n",
       "      <th>075ab631-dcf9-4789-80b4-8f69d8cd60b8</th>\n",
       "      <td>100.328815</td>\n",
       "    </tr>\n",
       "    <tr>\n",
       "      <th>0cde751e-9725-4808-b715-11c1287d5ec6</th>\n",
       "      <td>103.088058</td>\n",
       "    </tr>\n",
       "    <tr>\n",
       "      <th>0d0c6bb8-9c3b-4f90-b17e-f762d7582d9a</th>\n",
       "      <td>96.496643</td>\n",
       "    </tr>\n",
       "    <tr>\n",
       "      <th>13ca5b0d-da36-47ac-b4b6-752ddff63446</th>\n",
       "      <td>101.808855</td>\n",
       "    </tr>\n",
       "    <tr>\n",
       "      <th>...</th>\n",
       "      <td>...</td>\n",
       "    </tr>\n",
       "    <tr>\n",
       "      <th>f432a3bc-55b9-478c-9e22-39887b95f937</th>\n",
       "      <td>100.722500</td>\n",
       "    </tr>\n",
       "    <tr>\n",
       "      <th>f4c02cb9-a2c7-4528-8020-813159f2c574</th>\n",
       "      <td>107.977426</td>\n",
       "    </tr>\n",
       "    <tr>\n",
       "      <th>f81727e5-d8fe-471b-a6a7-71330dc01b1b</th>\n",
       "      <td>93.633893</td>\n",
       "    </tr>\n",
       "    <tr>\n",
       "      <th>f93998ee-3730-474e-b0b0-685e9034649c</th>\n",
       "      <td>112.925462</td>\n",
       "    </tr>\n",
       "    <tr>\n",
       "      <th>feb36b07-af1b-46af-97eb-e966d975f2ad</th>\n",
       "      <td>104.491357</td>\n",
       "    </tr>\n",
       "  </tbody>\n",
       "</table>\n",
       "<p>67 rows × 1 columns</p>\n",
       "</div>"
      ],
      "text/plain": [
       "                                           Spend\n",
       "Customer                                        \n",
       "00a877ab-193b-462e-82a9-09f363beb5c5  103.222119\n",
       "075ab631-dcf9-4789-80b4-8f69d8cd60b8  100.328815\n",
       "0cde751e-9725-4808-b715-11c1287d5ec6  103.088058\n",
       "0d0c6bb8-9c3b-4f90-b17e-f762d7582d9a   96.496643\n",
       "13ca5b0d-da36-47ac-b4b6-752ddff63446  101.808855\n",
       "...                                          ...\n",
       "f432a3bc-55b9-478c-9e22-39887b95f937  100.722500\n",
       "f4c02cb9-a2c7-4528-8020-813159f2c574  107.977426\n",
       "f81727e5-d8fe-471b-a6a7-71330dc01b1b   93.633893\n",
       "f93998ee-3730-474e-b0b0-685e9034649c  112.925462\n",
       "feb36b07-af1b-46af-97eb-e966d975f2ad  104.491357\n",
       "\n",
       "[67 rows x 1 columns]"
      ]
     },
     "execution_count": 28,
     "metadata": {},
     "output_type": "execute_result"
    }
   ],
   "source": [
    "sample = sample_stream(stream(100000))\n",
    "avg = sample.groupby('Customer').mean()\n",
    "avg"
   ]
  },
  {
   "cell_type": "markdown",
   "metadata": {},
   "source": [
    "The customer spend maps as follows:"
   ]
  },
  {
   "cell_type": "code",
   "execution_count": 8,
   "metadata": {},
   "outputs": [
    {
     "data": {
      "text/plain": [
       "<matplotlib.axes._subplots.AxesSubplot at 0x129911048>"
      ]
     },
     "execution_count": 8,
     "metadata": {},
     "output_type": "execute_result"
    },
    {
     "data": {
      "image/png": "[encoded data removed]",
      "text/plain": [
       "<Figure size 432x288 with 1 Axes>"
      ]
     },
     "metadata": {
      "needs_background": "light"
     },
     "output_type": "display_data"
    }
   ],
   "source": [
    "sns.distplot(avg)"
   ]
  },
  {
   "cell_type": "markdown",
   "metadata": {},
   "source": [
    "Depending on the size of the stream, the distribution, but as the size increases, the more even the distribution seems to be. "
   ]
  },
  {
   "cell_type": "markdown",
   "metadata": {},
   "source": [
    "## Exercise 3\n",
    "Explain why simple random sampling would not give as good an answer to the question in exercise 2 as your new algorithm does.\n",
    "\n",
    "Hint: Look at the distribution of amounts for some customer in your sample."
   ]
  },
  {
   "cell_type": "markdown",
   "metadata": {},
   "source": [
    "Firstly I rendered a few random customer IDs, to display a sample distribution of the sampled customer's amount shown below. Having ran this over 30 times, it was apparent that the distribution was mostly heavily left-skewed, with many purchases of low value, and few of high value. For a random sampling with just sampling random entries, instead of  entries per random customer, the purchasing patterns would have to be normally distributed. This is because the lower values  have a higher probability of being chosen vs the higher values, giving a non-representative average of per customer spend. "
   ]
  },
  {
   "cell_type": "code",
   "execution_count": 24,
   "metadata": {
    "scrolled": true
   },
   "outputs": [
    {
     "data": {
      "text/html": [
       "<div>\n",
       "<style scoped>\n",
       "    .dataframe tbody tr th:only-of-type {\n",
       "        vertical-align: middle;\n",
       "    }\n",
       "\n",
       "    .dataframe tbody tr th {\n",
       "        vertical-align: top;\n",
       "    }\n",
       "\n",
       "    .dataframe thead th {\n",
       "        text-align: right;\n",
       "    }\n",
       "</style>\n",
       "<table border=\"1\" class=\"dataframe\">\n",
       "  <thead>\n",
       "    <tr style=\"text-align: right;\">\n",
       "      <th></th>\n",
       "      <th>Customer</th>\n",
       "      <th>Spend</th>\n",
       "    </tr>\n",
       "  </thead>\n",
       "  <tbody>\n",
       "    <tr>\n",
       "      <th>3</th>\n",
       "      <td>f3f880bb-f71c-490d-bd01-cce8d6470013</td>\n",
       "      <td>33.79</td>\n",
       "    </tr>\n",
       "    <tr>\n",
       "      <th>18</th>\n",
       "      <td>f3f880bb-f71c-490d-bd01-cce8d6470013</td>\n",
       "      <td>9.80</td>\n",
       "    </tr>\n",
       "    <tr>\n",
       "      <th>102</th>\n",
       "      <td>f3f880bb-f71c-490d-bd01-cce8d6470013</td>\n",
       "      <td>149.97</td>\n",
       "    </tr>\n",
       "    <tr>\n",
       "      <th>170</th>\n",
       "      <td>f3f880bb-f71c-490d-bd01-cce8d6470013</td>\n",
       "      <td>158.50</td>\n",
       "    </tr>\n",
       "    <tr>\n",
       "      <th>417</th>\n",
       "      <td>f3f880bb-f71c-490d-bd01-cce8d6470013</td>\n",
       "      <td>152.21</td>\n",
       "    </tr>\n",
       "    <tr>\n",
       "      <th>...</th>\n",
       "      <td>...</td>\n",
       "      <td>...</td>\n",
       "    </tr>\n",
       "    <tr>\n",
       "      <th>9127</th>\n",
       "      <td>f3f880bb-f71c-490d-bd01-cce8d6470013</td>\n",
       "      <td>0.59</td>\n",
       "    </tr>\n",
       "    <tr>\n",
       "      <th>9145</th>\n",
       "      <td>f3f880bb-f71c-490d-bd01-cce8d6470013</td>\n",
       "      <td>46.95</td>\n",
       "    </tr>\n",
       "    <tr>\n",
       "      <th>9267</th>\n",
       "      <td>f3f880bb-f71c-490d-bd01-cce8d6470013</td>\n",
       "      <td>91.89</td>\n",
       "    </tr>\n",
       "    <tr>\n",
       "      <th>9277</th>\n",
       "      <td>f3f880bb-f71c-490d-bd01-cce8d6470013</td>\n",
       "      <td>171.79</td>\n",
       "    </tr>\n",
       "    <tr>\n",
       "      <th>9402</th>\n",
       "      <td>f3f880bb-f71c-490d-bd01-cce8d6470013</td>\n",
       "      <td>31.85</td>\n",
       "    </tr>\n",
       "  </tbody>\n",
       "</table>\n",
       "<p>157 rows × 2 columns</p>\n",
       "</div>"
      ],
      "text/plain": [
       "                                  Customer   Spend\n",
       "3     f3f880bb-f71c-490d-bd01-cce8d6470013   33.79\n",
       "18    f3f880bb-f71c-490d-bd01-cce8d6470013    9.80\n",
       "102   f3f880bb-f71c-490d-bd01-cce8d6470013  149.97\n",
       "170   f3f880bb-f71c-490d-bd01-cce8d6470013  158.50\n",
       "417   f3f880bb-f71c-490d-bd01-cce8d6470013  152.21\n",
       "...                                    ...     ...\n",
       "9127  f3f880bb-f71c-490d-bd01-cce8d6470013    0.59\n",
       "9145  f3f880bb-f71c-490d-bd01-cce8d6470013   46.95\n",
       "9267  f3f880bb-f71c-490d-bd01-cce8d6470013   91.89\n",
       "9277  f3f880bb-f71c-490d-bd01-cce8d6470013  171.79\n",
       "9402  f3f880bb-f71c-490d-bd01-cce8d6470013   31.85\n",
       "\n",
       "[157 rows x 2 columns]"
      ]
     },
     "execution_count": 24,
     "metadata": {},
     "output_type": "execute_result"
    },
    {
     "data": {
      "image/png": "[encoded data removed]",
      "text/plain": [
       "<Figure size 432x288 with 1 Axes>"
      ]
     },
     "metadata": {
      "needs_background": "light"
     },
     "output_type": "display_data"
    }
   ],
   "source": [
    "import matplotlib.pyplot as plt\n",
    "%matplotlib inline\n",
    "# Your code and explanation here\n",
    "rand_cust=  sample.Customer.sample().values[0]\n",
    "rand_dist = sample[sample.Customer == rand_cust]\n",
    "rand_dist"
   ]
  },
  {
   "cell_type": "code",
   "execution_count": null,
   "metadata": {},
   "outputs": [],
   "source": [
    "sns.distplot(rand_dist.Spend)"
   ]
  },
  {
   "cell_type": "markdown",
   "metadata": {},
   "source": [
    "Another way to view customer spend distribution is through a line plot, which shows inconsistent behavior."
   ]
  },
  {
   "cell_type": "code",
   "execution_count": 29,
   "metadata": {},
   "outputs": [
    {
     "data": {
      "text/plain": [
       "[<matplotlib.lines.Line2D at 0x130af64a8>]"
      ]
     },
     "execution_count": 29,
     "metadata": {},
     "output_type": "execute_result"
    },
    {
     "data": {
      "image/png": "[encoded data removed]",
      "text/plain": [
       "<Figure size 432x288 with 1 Axes>"
      ]
     },
     "metadata": {
      "needs_background": "light"
     },
     "output_type": "display_data"
    }
   ],
   "source": [
    "plt.plot(np.arange(len(rand_dist)), rand_dist.Spend)"
   ]
  },
  {
   "cell_type": "markdown",
   "metadata": {},
   "source": []
  }
 ],
 "metadata": {
  "kernelspec": {
   "display_name": "Python 3",
   "language": "python",
   "name": "python3"
  },
  "language_info": {
   "codemirror_mode": {
    "name": "ipython",
    "version": 3
   },
   "file_extension": ".py",
   "mimetype": "text/x-python",
   "name": "python",
   "nbconvert_exporter": "python",
   "pygments_lexer": "ipython3",
   "version": "3.7.0"
  }
 },
 "nbformat": 4,
 "nbformat_minor": 2
}
