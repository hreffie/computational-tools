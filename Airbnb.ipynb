{
 "cells": [
  {
   "cell_type": "markdown",
   "metadata": {},
   "source": [
    "# Project 3: Airbnb\n",
    "**This is the third of three mandatory projects to be handed in as part of the assessment for the course 02807 Computational Tools for Data Science at Technical University of Denmark, autumn 2019.**\n",
    "\n",
    "#### Practical info\n",
    "- **The project is to be done in groups of at most 3 students**\n",
    "- **Each group has to hand in _one_ Jupyter notebook (this notebook) with their solution**\n",
    "- **The hand-in of the notebook is due 2019-12-05, 23:59 on DTU Inside**\n",
    "\n",
    "#### Your solution\n",
    "- **Your solution should be in Python/PySpark**\n",
    "- **For each question you may use as many cells for your solution as you like**\n",
    "- **You should not remove the problem statements**\n",
    "- **Your notebook should be runnable, i.e., clicking [>>] in Jupyter should generate the result that you want to be assessed**\n",
    "- **You are not expected to use machine learning to solve any of the exercises**"
   ]
  },
  {
   "cell_type": "markdown",
   "metadata": {},
   "source": [
    "# Introduction\n",
    "[Airbnb](http://airbnb.com) is an online marketplace for arranging or offering lodgings. In this project you will use Spark to analyze data obtained from the Airbnb website. The purpose of the analysis is to extract information about trends and patterns from the data.\n",
    "\n",
    "The project has two parts.\n",
    "\n",
    "### Part 1: Loading, describing and preparing the data\n",
    "There's quite a lot of data. Make sure that you can load and correctly parse the data, and that you understand what the dataset contains. You should also prepare the data for the analysis in part two. This means cleaning it and staging it so that subsequent queries are fast.\n",
    "\n",
    "### Par 2: Analysis\n",
    "In this part your goal is to learn about trends and usage patterns from the data. You should give solutions to the tasks defined in this notebook, and you should use Spark to do the data processing. You may use other libraries like for instance Pandas and matplotlib for visualisation.\n",
    "\n",
    "## Guidelines\n",
    "- Processing data should be done using Spark. Once data has been reduced to aggregate form, you may use collect to extract it into Python for visualisation.\n",
    "- Your solutions will be evaluated by correctness, code quality and interpretability of the output. This means that you have to write clean and efficient Spark code that will generate sensible execution plans, and that the tables and visualisations that you produce are meaningful and easy to read.\n",
    "- You may add more cells for your solutions, but you should not modify the notebook otherwise."
   ]
  },
  {
   "cell_type": "markdown",
   "metadata": {},
   "source": [
    "### Create Spark session and define imports"
   ]
  },
  {
   "cell_type": "code",
   "execution_count": 1,
   "metadata": {},
   "outputs": [],
   "source": [
    "from pyspark.sql import *\n",
    "from pyspark.sql import functions as f\n",
    "from pyspark.sql.types import *\n",
    "import pandas as pd\n",
    "import matplotlib.pyplot as plt\n",
    "import seaborn as sns\n",
    "spark = SparkSession.builder.appName(\"AirBnB\").getOrCreate()"
   ]
  },
  {
   "cell_type": "markdown",
   "metadata": {},
   "source": [
    "# Part 1: Loading, describing and preparing the data\n",
    "The data comes in two files. Start by downloading the files and putting them in your `data/` folder.\n",
    "\n",
    "- [Listings](https://files.dtu.dk/u/siPzAasj8w2gI_ME/listings.csv?l) (5 GB)\n",
    "- [Reviews](https://files.dtu.dk/u/k3oaPYp6GjKBeho4/reviews.csv?l) (9.5 GB)"
   ]
  },
  {
   "cell_type": "markdown",
   "metadata": {},
   "source": [
    "### Load the data\n",
    "The data has multiline rows (rows that span multiple lines in the file). To correctly parse these you should use the `multiline` option and set the `escape` character to be `\"`."
   ]
  },
  {
   "cell_type": "markdown",
   "metadata": {},
   "source": [
    "We will start by loading a spark dataframe, read from .csv files. These files already contain headers, and we allow spark to infer the schema of the data. A spark dataframe is a Resilient Distributed Dataset (RDD) "
   ]
  },
  {
   "cell_type": "code",
   "execution_count": 2,
   "metadata": {},
   "outputs": [],
   "source": [
    "# Load listings\n",
    "listings = spark.read.csv('/data/listings.csv', escape='\\\"', encoding='ISO-8859-1', header=True, inferSchema=True, multiLine=True, ignoreLeadingWhiteSpace=True, ignoreTrailingWhiteSpace=True)"
   ]
  },
  {
   "cell_type": "code",
   "execution_count": 3,
   "metadata": {},
   "outputs": [],
   "source": [
    "# Load reviews\n",
    "reviews = spark.read.csv('/data/reviews.csv', escape='\\\"', encoding='ISO-8859-1',header=True, inferSchema=True, multiLine=True)"
   ]
  },
  {
   "cell_type": "markdown",
   "metadata": {},
   "source": [
    "### Describe the data\n",
    "List the features (schema) and sizes of the datasets."
   ]
  },
  {
   "cell_type": "code",
   "execution_count": 4,
   "metadata": {},
   "outputs": [
    {
     "name": "stdout",
     "output_type": "stream",
     "text": [
      "root\n",
      " |-- id: string (nullable = true)\n",
      " |-- listing_url: string (nullable = true)\n",
      " |-- scrape_id: string (nullable = true)\n",
      " |-- last_scraped: string (nullable = true)\n",
      " |-- name: string (nullable = true)\n",
      " |-- summary: string (nullable = true)\n",
      " |-- space: string (nullable = true)\n",
      " |-- description: string (nullable = true)\n",
      " |-- experiences_offered: string (nullable = true)\n",
      " |-- neighborhood_overview: string (nullable = true)\n",
      " |-- notes: string (nullable = true)\n",
      " |-- transit: string (nullable = true)\n",
      " |-- access: string (nullable = true)\n",
      " |-- interaction: string (nullable = true)\n",
      " |-- house_rules: string (nullable = true)\n",
      " |-- thumbnail_url: string (nullable = true)\n",
      " |-- medium_url: string (nullable = true)\n",
      " |-- picture_url: string (nullable = true)\n",
      " |-- xl_picture_url: string (nullable = true)\n",
      " |-- host_id: string (nullable = true)\n",
      " |-- host_url: string (nullable = true)\n",
      " |-- host_name: string (nullable = true)\n",
      " |-- host_since: string (nullable = true)\n",
      " |-- host_location: string (nullable = true)\n",
      " |-- host_about: string (nullable = true)\n",
      " |-- host_response_time: string (nullable = true)\n",
      " |-- host_response_rate: string (nullable = true)\n",
      " |-- host_acceptance_rate: string (nullable = true)\n",
      " |-- host_is_superhost: string (nullable = true)\n",
      " |-- host_thumbnail_url: string (nullable = true)\n",
      " |-- host_picture_url: string (nullable = true)\n",
      " |-- host_neighbourhood: string (nullable = true)\n",
      " |-- host_listings_count: string (nullable = true)\n",
      " |-- host_total_listings_count: string (nullable = true)\n",
      " |-- host_verifications: string (nullable = true)\n",
      " |-- host_has_profile_pic: string (nullable = true)\n",
      " |-- host_identity_verified: string (nullable = true)\n",
      " |-- street: string (nullable = true)\n",
      " |-- neighbourhood: string (nullable = true)\n",
      " |-- neighbourhood_cleansed: string (nullable = true)\n",
      " |-- neighbourhood_group_cleansed: string (nullable = true)\n",
      " |-- city: string (nullable = true)\n",
      " |-- state: string (nullable = true)\n",
      " |-- zipcode: string (nullable = true)\n",
      " |-- market: string (nullable = true)\n",
      " |-- smart_location: string (nullable = true)\n",
      " |-- country_code: string (nullable = true)\n",
      " |-- country: string (nullable = true)\n",
      " |-- latitude: string (nullable = true)\n",
      " |-- longitude: string (nullable = true)\n",
      " |-- is_location_exact: string (nullable = true)\n",
      " |-- property_type: string (nullable = true)\n",
      " |-- room_type: string (nullable = true)\n",
      " |-- accommodates: string (nullable = true)\n",
      " |-- bathrooms: string (nullable = true)\n",
      " |-- bedrooms: string (nullable = true)\n",
      " |-- beds: string (nullable = true)\n",
      " |-- bed_type: string (nullable = true)\n",
      " |-- amenities: string (nullable = true)\n",
      " |-- square_feet: string (nullable = true)\n",
      " |-- price: string (nullable = true)\n",
      " |-- weekly_price: string (nullable = true)\n",
      " |-- monthly_price: string (nullable = true)\n",
      " |-- security_deposit: string (nullable = true)\n",
      " |-- cleaning_fee: string (nullable = true)\n",
      " |-- guests_included: string (nullable = true)\n",
      " |-- extra_people: string (nullable = true)\n",
      " |-- minimum_nights: string (nullable = true)\n",
      " |-- maximum_nights: string (nullable = true)\n",
      " |-- minimum_minimum_nights: string (nullable = true)\n",
      " |-- maximum_minimum_nights: string (nullable = true)\n",
      " |-- minimum_maximum_nights: string (nullable = true)\n",
      " |-- maximum_maximum_nights: string (nullable = true)\n",
      " |-- minimum_nights_avg_ntm: string (nullable = true)\n",
      " |-- maximum_nights_avg_ntm: string (nullable = true)\n",
      " |-- calendar_updated: string (nullable = true)\n",
      " |-- has_availability: string (nullable = true)\n",
      " |-- availability_30: string (nullable = true)\n",
      " |-- availability_60: string (nullable = true)\n",
      " |-- availability_90: string (nullable = true)\n",
      " |-- availability_365: string (nullable = true)\n",
      " |-- calendar_last_scraped: string (nullable = true)\n",
      " |-- number_of_reviews: string (nullable = true)\n",
      " |-- number_of_reviews_ltm: string (nullable = true)\n",
      " |-- first_review: string (nullable = true)\n",
      " |-- last_review: string (nullable = true)\n",
      " |-- review_scores_rating: string (nullable = true)\n",
      " |-- review_scores_accuracy: string (nullable = true)\n",
      " |-- review_scores_cleanliness: string (nullable = true)\n",
      " |-- review_scores_checkin: string (nullable = true)\n",
      " |-- review_scores_communication: string (nullable = true)\n",
      " |-- review_scores_location: string (nullable = true)\n",
      " |-- review_scores_value: string (nullable = true)\n",
      " |-- requires_license: string (nullable = true)\n",
      " |-- license: string (nullable = true)\n",
      " |-- jurisdiction_names: string (nullable = true)\n",
      " |-- instant_bookable: string (nullable = true)\n",
      " |-- is_business_travel_ready: string (nullable = true)\n",
      " |-- cancellation_policy: string (nullable = true)\n",
      " |-- require_guest_profile_picture: string (nullable = true)\n",
      " |-- require_guest_phone_verification: string (nullable = true)\n",
      " |-- calculated_host_listings_count: string (nullable = true)\n",
      " |-- calculated_host_listings_count_entire_homes: string (nullable = true)\n",
      " |-- calculated_host_listings_count_private_rooms: string (nullable = true)\n",
      " |-- calculated_host_listings_count_shared_rooms: string (nullable = true)\n",
      " |-- reviews_per_month: string (nullable = true)\n",
      "\n"
     ]
    }
   ],
   "source": [
    "# Schema of listings\n",
    "listings.printSchema()"
   ]
  },
  {
   "cell_type": "code",
   "execution_count": 5,
   "metadata": {
    "scrolled": true
   },
   "outputs": [
    {
     "name": "stdout",
     "output_type": "stream",
     "text": [
      "root\n",
      " |-- listing_id: string (nullable = true)\n",
      " |-- id: string (nullable = true)\n",
      " |-- date: string (nullable = true)\n",
      " |-- reviewer_id: string (nullable = true)\n",
      " |-- reviewer_name: string (nullable = true)\n",
      " |-- comments: string (nullable = true)\n",
      "\n"
     ]
    }
   ],
   "source": [
    "# Schema of reviews\n",
    "reviews.printSchema()"
   ]
  },
  {
   "cell_type": "code",
   "execution_count": 6,
   "metadata": {},
   "outputs": [
    {
     "name": "stdout",
     "output_type": "stream",
     "text": [
      "Nr columns: 106\n",
      "Nr rows: 1330480\n"
     ]
    }
   ],
   "source": [
    "# Listings size\n",
    "print('Nr columns:', len(listings.columns))\n",
    "print('Nr rows:', listings.count()) "
   ]
  },
  {
   "cell_type": "code",
   "execution_count": 7,
   "metadata": {},
   "outputs": [
    {
     "name": "stdout",
     "output_type": "stream",
     "text": [
      "Nr columns: 6\n",
      "Nr rows: 32297300\n"
     ]
    }
   ],
   "source": [
    "#Reviews size\n",
    "print('Nr columns:', len(reviews.columns))\n",
    "print('Nr rows:',reviews.count())"
   ]
  },
  {
   "cell_type": "markdown",
   "metadata": {},
   "source": [
    "Both datasets are quite large, in order to avoid shuffling the data when looking at the size of the dataets we use a sketch that gets the approximate size of the datasets."
   ]
  },
  {
   "cell_type": "code",
   "execution_count": 8,
   "metadata": {},
   "outputs": [
    {
     "name": "stdout",
     "output_type": "stream",
     "text": [
      "+-------------------------+\n",
      "|approx_count_distinct(id)|\n",
      "+-------------------------+\n",
      "|                  1314984|\n",
      "+-------------------------+\n",
      "\n"
     ]
    }
   ],
   "source": [
    "# Approximate size of listings based on distinct ids\n",
    "approx_distinct_listings = listings.select(f.approxCountDistinct('id'))\n",
    "approx_distinct_listings.show()"
   ]
  },
  {
   "cell_type": "code",
   "execution_count": 9,
   "metadata": {},
   "outputs": [
    {
     "name": "stdout",
     "output_type": "stream",
     "text": [
      "+-------------------------+\n",
      "|approx_count_distinct(id)|\n",
      "+-------------------------+\n",
      "|                 31920458|\n",
      "+-------------------------+\n",
      "\n"
     ]
    }
   ],
   "source": [
    "# Approximate size of reviews based on distinct ids\n",
    "approx_distinct_reviews = reviews.select(f.approxCountDistinct('id'))\n",
    "approx_distinct_reviews.show()"
   ]
  },
  {
   "cell_type": "markdown",
   "metadata": {},
   "source": [
    "### Prepare the data for analysis\n",
    "You should prepare two dataframes to be used in the analysis part of the project. You should not be concerned with cleaning the data. There's a lot of it, so it will be sufficient to drop rows that have bad values. You may want to go back and refine this step at a later point when doing the analysis.\n",
    "\n",
    "You may also want to consider if you can stage your data so that subsequent processing is more efficient (this is not strictly necessary for Spark to run, but you may be able to decrease the time you sit around waiting for Spark to finish things)"
   ]
  },
  {
   "cell_type": "markdown",
   "metadata": {},
   "source": [
    "##### Cleaning and caching:\n",
    "Below we clean both dataframes by deciding which columns we want to use for our analysis and drop all rows that have no values in any of the desired columns as well as duplicate rows. As can be seen in the schema of *listings* the data has a lot of column that will be irrelevant for our analysis so we also go ahead and select the columns for each dataframe that apply for later analysis. In order to access our as fast as possible, we use PySparks cache function, to cache the dataframe into memory. This avoids having to re-evaluate the dataframe every single time an action is invoked, which is one of the primary features of Spark's lazy evaluation. "
   ]
  },
  {
   "cell_type": "code",
   "execution_count": 10,
   "metadata": {},
   "outputs": [],
   "source": [
    "# Clean listings df\n",
    "# Drop rows that have missing values in any of the stated columns\n",
    "listings = listings.dropna(subset=['id', 'name', 'country', 'city', 'neighbourhood', 'property_type', 'price', 'reviews_per_month', 'review_scores_rating', 'number_of_reviews'])"
   ]
  },
  {
   "cell_type": "code",
   "execution_count": 11,
   "metadata": {},
   "outputs": [],
   "source": [
    "# Drop duplicate rows\n",
    "listings = listings.drop_duplicates()"
   ]
  },
  {
   "cell_type": "code",
   "execution_count": 12,
   "metadata": {},
   "outputs": [
    {
     "name": "stdout",
     "output_type": "stream",
     "text": [
      "+--------+-------------------------------------+--------------+----------------+--------------------+-------------+-------+-----------------+--------------------+-----------------+\n",
      "|      id|                                 name|       country|            city|       neighbourhood|property_type|  price|reviews_per_month|review_scores_rating|number_of_reviews|\n",
      "+--------+-------------------------------------+--------------+----------------+--------------------+-------------+-------+-----------------+--------------------+-----------------+\n",
      "|11979807|                 Appartamento shab...|         Italy|         Firenze|      Centro Storico|    Apartment| $80.00|             0.44|                  86|               18|\n",
      "|15526491|                 Appartement au ca...|        France|           Paris|   XI Arrondissement|    Apartment| $61.00|             0.12|                  70|                4|\n",
      "|36061262|                       Depto Coyoacán|        Mexico|Ciudad de México|           Del Valle|    Apartment|$253.00|             1.20|                 100|                3|\n",
      "|21758497|                 Appartement rue O...|        France|           Paris|   XI Arrondissement|    Apartment| $42.00|             0.04|                 100|                1|\n",
      "|32840860|                 Private Cosy Apar...|       Germany|          Munich|Milbertshofen - A...|    Apartment| $35.00|             0.37|                  90|                2|\n",
      "|35234037|                 Muy tranquila y l...|         Spain|          Madrid|               Usera|  Condominium| $25.00|             6.50|                  91|               13|\n",
      "|16941839|                 Cheap room in Cen...|United Kingdom|          London| LB of Tower Hamlets|        House| $45.00|             0.12|                 100|                1|\n",
      "| 4647911|                 Studio lumineux 6...|        France|            Lyon|  6th Arrondissement|    Apartment|$140.00|             0.02|                 100|                1|\n",
      "| 9423924|                 Beau studio à Mon...|        France|           Paris|XVIII Arrondissement|    Apartment| $40.00|             0.15|                  91|                7|\n",
      "| 7669616|                 Zhoa-Cozy studio ...|         China|         Beijing|            Sanlitun|    Apartment|$420.00|             2.32|                  98|              114|\n",
      "|10069310|                 Spacious studio n...| United States|         Oakland|            Lakeside|    Apartment| $80.00|             0.09|                  60|                4|\n",
      "|21976567|                 District Studio—S...| United States|      Washington| 16th Street Heights|  Guest suite|$135.00|             6.38|                  97|               97|\n",
      "|36210578|西三环人民大学北理工北外民大附近温...|         China|         Beijing|             Haidian|  Condominium|$121.00|             3.33|                  98|                8|\n",
      "| 2502923|                 Perfectly Located...| United States|          Austin|       Bouldin Creek|    Apartment|$150.00|             4.67|                  99|              314|\n",
      "| 3772256|                 Modern Studio at ...| United States|        New York|             Midtown|   Aparthotel|$350.00|             0.19|                  82|                9|\n",
      "|28268165|                 Clapham junction ...|United Kingdom|  Greater London|           Battersea|    Apartment| $37.00|             3.70|                  90|               45|\n",
      "|23869950|                 Melbourne city on...|     Australia|       Melbourne|Central Business ...|    Apartment| $76.00|             0.33|                  72|                6|\n",
      "|31724599|                       简约温馨一居室|         China|         Beijing|            Chaoyang|  Condominium|$355.00|             0.14|                  20|                1|\n",
      "|17601960|                 Studio Apt - One ...| United States|        New York|           Manhattan|    Apartment|$100.00|             0.20|                 100|                6|\n",
      "|36762177|                 Artist appartment...|        France|           Paris|          République|    Apartment| $55.00|             0.95|                 100|                2|\n",
      "+--------+-------------------------------------+--------------+----------------+--------------------+-------------+-------+-----------------+--------------------+-----------------+\n",
      "only showing top 20 rows\n",
      "\n"
     ]
    }
   ],
   "source": [
    "# Select relevant columns for analyzing data\n",
    "listings = listings.select('id', 'name', 'country', 'city', 'neighbourhood', 'property_type', 'price', 'reviews_per_month', 'review_scores_rating', 'number_of_reviews').cache()\n",
    "listings.show()"
   ]
  },
  {
   "cell_type": "code",
   "execution_count": 13,
   "metadata": {},
   "outputs": [],
   "source": [
    "# Clean reviews df\n",
    "# Drop all rows that contain empty cells\n",
    "reviews = reviews.dropna()"
   ]
  },
  {
   "cell_type": "code",
   "execution_count": 14,
   "metadata": {},
   "outputs": [],
   "source": [
    "# Drop duplicate rows\n",
    "reviews = reviews.drop_duplicates()"
   ]
  },
  {
   "cell_type": "code",
   "execution_count": 15,
   "metadata": {},
   "outputs": [
    {
     "name": "stdout",
     "output_type": "stream",
     "text": [
      "+----------+---------+--------------------+----------+\n",
      "|listing_id|       id|            comments|      date|\n",
      "+----------+---------+--------------------+----------+\n",
      "|  10000061|204590053|Robyn and Steve’s...|2017-10-19|\n",
      "|  10000061|235474478|If you’re looking...|2018-02-16|\n",
      "|  10000061| 71626680|The host canceled...|2016-04-27|\n",
      "|  10000222|175745558|The host canceled...|2017-07-29|\n",
      "|   1000039|271348608|Wonderful flat in...|2018-06-01|\n",
      "|  10000470|192037233|Daniel's place is...|2017-09-09|\n",
      "|  10001263|275781461|Monica's place is...|2018-06-11|\n",
      "|  10002239|341869164|It's been years s...|2018-10-28|\n",
      "|   1000256|163339412|La casetta è ben ...|2017-06-24|\n",
      "|  10003065|423048826|Tidy place, small...|2019-03-12|\n",
      "|  10003065|462137657|Robyn and Steve’s...|2019-06-02|\n",
      "|   1000340|105908776|Pros; Our host wa...|2016-10-03|\n",
      "|   1000340|287481401|Amazing spot. Fri...|2018-07-08|\n",
      "|   1000382|  8959167|Beautiful new fla...|2013-11-28|\n",
      "|  10004378|186608128|Beautiful Trulli ...|2017-08-25|\n",
      "|  10005240|411266824|The street locati...|2019-02-11|\n",
      "|  10005342| 95091335|First of all : Gu...|2016-08-18|\n",
      "|  10005530|287425505|Lovely place, if ...|2018-07-08|\n",
      "|  10005666|126974103|If you come by tr...|2017-01-15|\n",
      "|  10005978| 74578667|We enjoyed our th...|2016-05-15|\n",
      "+----------+---------+--------------------+----------+\n",
      "only showing top 20 rows\n",
      "\n"
     ]
    }
   ],
   "source": [
    "# Cache into memory\n",
    "reviews = reviews.select('listing_id', 'id', 'comments', 'date')\n",
    "reviews.show()"
   ]
  },
  {
   "cell_type": "markdown",
   "metadata": {},
   "source": [
    "# Part 2: Analysis\n",
    "Use Spark and your favorite tool for data visualization to solve the following tasks.\n",
    "\n",
    "## The basics\n",
    "Compute and show a dataframe with the number of listings and neighbourhoods per city."
   ]
  },
  {
   "cell_type": "code",
   "execution_count": 16,
   "metadata": {},
   "outputs": [
    {
     "name": "stdout",
     "output_type": "stream",
     "text": [
      "+-------------------+---------+-----------------------------+\n",
      "|city               |count(id)|count(DISTINCT neighbourhood)|\n",
      "+-------------------+---------+-----------------------------+\n",
      "|Paris              |48143    |63                           |\n",
      "|Greater London     |33229    |149                          |\n",
      "|London             |25729    |148                          |\n",
      "|Los Angeles        |22323    |95                           |\n",
      "|Berlin             |19689    |93                           |\n",
      "|Roma               |18578    |42                           |\n",
      "|Toronto            |17874    |140                          |\n",
      "|København          |17431    |21                           |\n",
      "|Amsterdam          |16908    |44                           |\n",
      "|New York           |16157    |91                           |\n",
      "|Madrid             |15783    |66                           |\n",
      "|Brooklyn           |15694    |51                           |\n",
      "|Barcelona          |15525    |68                           |\n",
      "|Beijing            |14113    |61                           |\n",
      "|Montréal           |13497    |43                           |\n",
      "|Milano             |13460    |24                           |\n",
      "|Lisboa             |13243    |48                           |\n",
      "|Ciudad de México   |10764    |54                           |\n",
      "|San Diego          |10331    |107                          |\n",
      "|Edinburgh          |9888     |13                           |\n",
      "|Rio de Janeiro     |9563     |75                           |\n",
      "|Wien               |9221     |23                           |\n",
      "|Firenze            |8767     |14                           |\n",
      "|Austin             |8042     |79                           |\n",
      "|Lyon               |8010     |9                            |\n",
      "|Seattle            |7667     |79                           |\n",
      "|Chicago            |7642     |87                           |\n",
      "|Athina             |7493     |32                           |\n",
      "|München            |7268     |45                           |\n",
      "|Washington         |7225     |106                          |\n",
      "|New Orleans        |6383     |51                           |\n",
      "|San Francisco      |6322     |56                           |\n",
      "|Bordeaux           |5719     |13                           |\n",
      "|Buenos Aires       |5699     |42                           |\n",
      "|Hong Kong          |5479     |55                           |\n",
      "|Vancouver          |5337     |28                           |\n",
      "|Prague             |5179     |53                           |\n",
      "|Sevilla            |4892     |11                           |\n",
      "|Singapore          |4817     |42                           |\n",
      "|Venezia            |4806     |9                            |\n",
      "|València           |4742     |16                           |\n",
      "|Boston             |4501     |28                           |\n",
      "|Portland           |4098     |90                           |\n",
      "|Denver             |4074     |77                           |\n",
      "|Rome               |3891     |42                           |\n",
      "|Melbourne          |3628     |32                           |\n",
      "|Honolulu           |3620     |22                           |\n",
      "|Queens             |3587     |35                           |\n",
      "|Oslo               |3354     |14                           |\n",
      "|Stockholm          |3327     |14                           |\n",
      "|Dublin             |3301     |65                           |\n",
      "|Oakland            |2619     |75                           |\n",
      "|Palermo            |2604     |7                            |\n",
      "|Frederiksberg      |2533     |7                            |\n",
      "|Copenhagen         |2518     |19                           |\n",
      "|Beyoğlu            |2491     |6                            |\n",
      "|Lisbon             |2449     |48                           |\n",
      "|San Jose           |2415     |28                           |\n",
      "|Kihei              |2175     |2                            |\n",
      "|Minneapolis        |2081     |88                           |\n",
      "|Copacabana         |1953     |5                            |\n",
      "|Lahaina            |1943     |6                            |\n",
      "|Montreal           |1916     |40                           |\n",
      "|Milan              |1899     |23                           |\n",
      "|Florence           |1728     |14                           |\n",
      "|Venice             |1531     |13                           |\n",
      "|Wanhua District    |1497     |4                            |\n",
      "|Recoleta           |1468     |6                            |\n",
      "|Long Beach         |1464     |3                            |\n",
      "|Bondi Beach        |1302     |5                            |\n",
      "|Vienna             |1242     |23                           |\n",
      "|Kailua-Kona        |1220     |2                            |\n",
      "|Hlavní město Praha |1208     |23                           |\n",
      "|Bruxelles          |1148     |38                           |\n",
      "|Southbank          |1131     |4                            |\n",
      "|Surry Hills        |1119     |6                            |\n",
      "|Cambridge          |1093     |3                            |\n",
      "|Valencia           |1090     |16                           |\n",
      "|Athens             |1049     |30                           |\n",
      "|Munich             |1032     |40                           |\n",
      "|Rio                |1028     |41                           |\n",
      "|Istanbul           |1013     |14                           |\n",
      "|Shinjuku-ku        |1008     |6                            |\n",
      "|Da’an District     |969      |6                            |\n",
      "|Fatih              |957      |4                            |\n",
      "|Praha              |957      |40                           |\n",
      "|Santa Monica       |908      |5                            |\n",
      "|İstanbul           |896      |13                           |\n",
      "|Princeville        |876      |1                            |\n",
      "|Manly              |871      |3                            |\n",
      "|Ixelles            |855      |12                           |\n",
      "|Sydney             |841      |69                           |\n",
      "|Şişli              |836      |4                            |\n",
      "|Zhongshan District |828      |6                            |\n",
      "|Praha 3            |824      |6                            |\n",
      "|Brussel            |796      |33                           |\n",
      "|Zhongzheng District|793      |5                            |\n",
      "|Mountain View      |780      |4                            |\n",
      "|Kadıköy            |755      |4                            |\n",
      "|Santa Cruz         |754      |3                            |\n",
      "+-------------------+---------+-----------------------------+\n",
      "only showing top 100 rows\n",
      "\n"
     ]
    }
   ],
   "source": [
    "listings.groupBy('city')\\\n",
    "    .agg(f.count('id'), f.countDistinct('neighbourhood'))\\\n",
    "    .orderBy(\"count(id)\", ascending=False)\\\n",
    "    .show(100, False)"
   ]
  },
  {
   "cell_type": "markdown",
   "metadata": {},
   "source": [
    "Based on the table above, you should choose a city that you want to continue your analysis for. The city should have mulitple neighbourhoods with listings in them.\n",
    "\n",
    "Compute and visualize the number of listings of different property types per neighbourhood in your city."
   ]
  },
  {
   "cell_type": "markdown",
   "metadata": {},
   "source": [
    "We chose the capital of Sweden, **Stockholm**"
   ]
  },
  {
   "cell_type": "code",
   "execution_count": 17,
   "metadata": {},
   "outputs": [],
   "source": [
    "stockholm = listings.filter(listings.city == 'Stockholm').cache()\n",
    "stock_prop = stockholm.groupBy('property_type', 'neighbourhood').agg(f.count('id').alias('ids')).orderBy('neighbourhood')"
   ]
  },
  {
   "cell_type": "markdown",
   "metadata": {},
   "source": [
    "For plotting purposes, have to transform the spark dataframe into a pandas datafram, with each neighborhood on the x axis and the number of listings on the y."
   ]
  },
  {
   "cell_type": "code",
   "execution_count": 18,
   "metadata": {},
   "outputs": [
    {
     "name": "stderr",
     "output_type": "stream",
     "text": [
      "/opt/conda/lib/python3.7/site-packages/ipykernel_launcher.py:3: MatplotlibDeprecationWarning: Adding an axes using the same arguments as a previous axes currently reuses the earlier instance.  In a future version, a new instance will always be created and returned.  Meanwhile, this warning can be suppressed, and the future behavior ensured, by passing a unique label to each axes instance.\n",
      "  This is separate from the ipykernel package so we can avoid doing imports until\n"
     ]
    },
    {
     "data": {
      "text/plain": [
       "<matplotlib.legend.Legend at 0x7fe5ce261cc0>"
      ]
     },
     "execution_count": 18,
     "metadata": {},
     "output_type": "execute_result"
    },
    {
     "data": {
      "image/png": "[encoded data removed]",
      "text/plain": [
       "<Figure size 1800x864 with 1 Axes>"
      ]
     },
     "metadata": {
      "needs_background": "light"
     },
     "output_type": "display_data"
    }
   ],
   "source": [
    "stock_prop  = stock_prop.select(\"*\").toPandas().pivot(index='neighbourhood', columns='property_type', values='ids').plot.bar(stacked=True, figsize=(25,12))\n",
    "plt.ylabel('Nr. of listings')\n",
    "ax = plt.subplot(111)\n",
    "box = ax.get_position()\n",
    "ax.set_position([box.x0, box.y0, box.width*0.65, box.height])\n",
    "plt.legend(loc='center left', bbox_to_anchor=(1, 0.5))"
   ]
  },
  {
   "cell_type": "markdown",
   "metadata": {},
   "source": [
    "## Prices\n",
    "Compute the minimum, maximum and average listing price in your city. "
   ]
  },
  {
   "cell_type": "markdown",
   "metadata": {},
   "source": [
    "We will start off by removing the dollar sign in the price column, converting them to non-comma delimited strings, and casting them as floats in order to estimate values."
   ]
  },
  {
   "cell_type": "code",
   "execution_count": 19,
   "metadata": {},
   "outputs": [
    {
     "name": "stdout",
     "output_type": "stream",
     "text": [
      "+--------+--------------------+-------+---------+--------------------+-------------+------+-----------------+--------------------+-----------------+\n",
      "|      id|                name|country|     city|       neighbourhood|property_type| Price|reviews_per_month|review_scores_rating|number_of_reviews|\n",
      "+--------+--------------------+-------+---------+--------------------+-------------+------+-----------------+--------------------+-----------------+\n",
      "|13862496|Apartment in Vasa...| Sweden|Stockholm|            Norrmalm|    Apartment| 587.0|             0.03|                  80|                1|\n",
      "|21200081|Location, locatio...| Sweden|Stockholm|           Södermalm|    Apartment| 998.0|             0.17|                 100|                4|\n",
      "| 6543006|Room in Central S...| Sweden|Stockholm|            Norrmalm|    Apartment| 401.0|             1.47|                  92|               77|\n",
      "| 6659041|Central charming ...| Sweden|Stockholm|            Norrmalm|    Apartment| 646.0|             0.18|                  98|                9|\n",
      "|13824151|Unique residence ...| Sweden|Stockholm|           Östermalm|    Apartment|1497.0|             0.18|                  94|                7|\n",
      "|12383182|Gay friendly room...| Sweden|Stockholm|Enskede-Årsta-Vantör|    Apartment| 499.0|             0.11|                 100|                4|\n",
      "| 5828569|Cosy 2-room, Horn...| Sweden|Stockholm|           Södermalm|    Apartment|1605.0|             0.72|                  97|               39|\n",
      "| 6907588|Central, Modern, ...| Sweden|Stockholm|           Södermalm|    Apartment| 656.0|             7.15|                  97|              289|\n",
      "| 6759805|Two rooms with ki...| Sweden|Stockholm|           Skarpnäck|    Apartment| 548.0|             0.08|                  90|                4|\n",
      "|13973701|1 room flat Stock...| Sweden|Stockholm|           Södermalm|    Apartment| 646.0|             0.65|                  93|               25|\n",
      "| 4755973|City Center Apart...| Sweden|Stockholm|           Östermalm|    Apartment|1497.0|             0.37|                  91|               20|\n",
      "| 2521074|Spacious 2-bedroo...| Sweden|Stockholm|           Södermalm|    Apartment|1849.0|             1.42|                  97|               91|\n",
      "|11215840|Charming 2 room a...| Sweden|Stockholm|           Södermalm|    Apartment|1350.0|             0.23|                 100|               10|\n",
      "|12829821| Bedroom in Vårberg.| Sweden|Stockholm|          Skärholmen|    Apartment| 254.0|             0.18|                  80|                7|\n",
      "|13423457|Great apartment i...| Sweden|Stockholm|           Östermalm|    Apartment| 704.0|             0.23|                  87|                9|\n",
      "|15773429|Room Ba in a hous...| Sweden|Stockholm|       Spånga-Tensta|    Apartment| 254.0|             0.15|                  80|                5|\n",
      "|12196318|Cozy apartment in...| Sweden|Stockholm|         Kungsholmen|    Apartment| 841.0|             0.07|                  93|                3|\n",
      "|13162685|Creative Studio K...| Sweden|Stockholm|         Kungsholmen|    Apartment| 450.0|             0.45|                  96|               12|\n",
      "|13851384|Cozy and central ...| Sweden|Stockholm|           Södermalm|    Apartment| 626.0|             0.20|                  98|                8|\n",
      "| 5388388|Christofer Johansson| Sweden|Stockholm|            Norrmalm|    Apartment| 753.0|             0.04|                  90|                2|\n",
      "+--------+--------------------+-------+---------+--------------------+-------------+------+-----------------+--------------------+-----------------+\n",
      "only showing top 20 rows\n",
      "\n"
     ]
    }
   ],
   "source": [
    "price = f.udf(lambda x: x.replace(u'$',''))\n",
    "stockholm = stockholm.withColumn('Price', price('Price'))\n",
    "stockholm = stockholm.withColumn('Price', f.udf(lambda x: x.replace(u',',''))('Price').cast('float'))\n",
    "stockholm.show()"
   ]
  },
  {
   "cell_type": "code",
   "execution_count": 20,
   "metadata": {},
   "outputs": [
    {
     "name": "stdout",
     "output_type": "stream",
     "text": [
      "+----------+----------+----------------+\n",
      "|min(Price)|max(Price)|      avg(Price)|\n",
      "+----------+----------+----------------+\n",
      "|      98.0|   10155.0|1089.82957619477|\n",
      "+----------+----------+----------------+\n",
      "\n"
     ]
    }
   ],
   "source": [
    "stockholm.select(f.min('Price'), f.max('Price'), f.avg('Price')).show()"
   ]
  },
  {
   "cell_type": "markdown",
   "metadata": {},
   "source": [
    "Compute and visualize the distribution of listing prices in your city."
   ]
  },
  {
   "cell_type": "markdown",
   "metadata": {},
   "source": [
    "We'll plot the distribution of prices of AirBnB's located in the lovely city of Stockholm. "
   ]
  },
  {
   "cell_type": "code",
   "execution_count": 21,
   "metadata": {},
   "outputs": [
    {
     "data": {
      "image/png": "[encoded data removed]",
      "text/plain": [
       "<Figure size 1800x720 with 1 Axes>"
      ]
     },
     "metadata": {
      "needs_background": "light"
     },
     "output_type": "display_data"
    }
   ],
   "source": [
    "#Create pandas dataframe for plotting purposes\n",
    "stockholmdf = stockholm.select(stockholm.Price).toPandas()\n",
    "plt.figure(figsize=(25, 10))\n",
    "sns.set_palette(sns.light_palette(\"navy\", reverse=True))\n",
    "p = sns.distplot(stockholmdf['Price'], bins=100)\n",
    "p= p.set_xlim(min(stockholmdf['Price']), max(stockholmdf['Price']))"
   ]
  },
  {
   "cell_type": "markdown",
   "metadata": {},
   "source": [
    "The value of a listing is its rating divided by its price.\n",
    "\n",
    "Compute and show a dataframe with the 3 highest valued listings in each neighbourhood."
   ]
  },
  {
   "cell_type": "code",
   "execution_count": 22,
   "metadata": {},
   "outputs": [
    {
     "name": "stdout",
     "output_type": "stream",
     "text": [
      "+--------------------+-------------------+--------------------+--------------------+-----+-----------------+----+\n",
      "|                name|              value|       neighbourhood|review_scores_rating|price|number_of_reviews|rank|\n",
      "+--------------------+-------------------+--------------------+--------------------+-----+-----------------+----+\n",
      "|        Balla Bromma| 0.4444444444444444|              Bromma|                 100|225.0|                3|   2|\n",
      "| Nice room in Bromma| 0.7948717948717948|              Bromma|                  93|117.0|               23|   1|\n",
      "|Rent a room in St...|              0.375|              Bromma|                  99|264.0|               26|   3|\n",
      "|Shared room for F...| 0.6802721088435374|Enskede-Årsta-Vantör|                 100|147.0|                2|   1|\n",
      "|Cosy 50th style a...| 0.5102040816326531|Enskede-Årsta-Vantör|                 100|196.0|                2|   2|\n",
      "|Bekväm lägenhet i...|0.47959183673469385|Enskede-Årsta-Vantör|                  94|196.0|               14|   3|\n",
      "|Cozy Nice Room Wi...|0.38188976377952755|              Farsta|                  97|254.0|               57|   2|\n",
      "|Rum uthyres i Far...|0.35826771653543305|              Farsta|                  91|254.0|                9|   3|\n",
      "|Private room in c...|0.47804878048780486|              Farsta|                  98|205.0|               27|   1|\n",
      "| \"My home your home\"|0.36742424242424243|Hägersten-Liljeho...|                  97|264.0|               31|   3|\n",
      "|Student room 3 St...|0.37244897959183676|Hägersten-Liljeho...|                  73|196.0|                6|   2|\n",
      "|Warm big room wit...| 0.4266666666666667|Hägersten-Liljeho...|                  96|225.0|               50|   1|\n",
      "|    Shared Apartment|  0.673469387755102|  Hässelby-Vällingby|                  99|147.0|               48|   1|\n",
      "|Room2, for GIRL, ...| 0.5923566878980892|  Hässelby-Vällingby|                  93|157.0|                3|   2|\n",
      "|Do you like to sh...|  0.489247311827957|  Hässelby-Vällingby|                  91|186.0|               33|   3|\n",
      "|L32: bed in a dor...| 0.5306122448979592|         Kungsholmen|                  78|147.0|              187|   1|\n",
      "|L32:bed in a dorm...|             0.4375|         Kungsholmen|                  77|176.0|               63|   2|\n",
      "|L32:bed in a dorm...| 0.4030612244897959|         Kungsholmen|                  79|196.0|               52|   3|\n",
      "|L32: bed in a dor...| 0.4030612244897959|         Kungsholmen|                  79|196.0|              109|   3|\n",
      "|Cozy studio apart...| 0.2375296912114014|            Norrmalm|                 100|421.0|                1|   3|\n",
      "+--------------------+-------------------+--------------------+--------------------+-----+-----------------+----+\n",
      "only showing top 20 rows\n",
      "\n"
     ]
    }
   ],
   "source": [
    "values = stockholm.withColumn('value', f.col('review_scores_rating') / f.col('Price')).select('name', 'value', 'neighbourhood', 'review_scores_rating', 'price', 'number_of_reviews')\n",
    "window = Window.partitionBy(values['neighbourhood']).orderBy(values['value'].desc())\n",
    "values.select('*', f.rank().over(window).alias('rank')).filter(f.col('rank') <= 3).orderBy('neighbourhood').show()"
   ]
  },
  {
   "cell_type": "markdown",
   "metadata": {},
   "source": [
    "## Trends\n",
    "Now we want to analyze the \"popularity\" of your city. The data does not contain the number of bookings per listing, but we have a large number of reviews, and we will assume that this is a good indicator of activity on listings."
   ]
  },
  {
   "cell_type": "markdown",
   "metadata": {},
   "source": [
    "Compute and visualize the popularity (i.e., number of reviews) of your city over time."
   ]
  },
  {
   "cell_type": "markdown",
   "metadata": {},
   "source": [
    "#### Joining and grouping\n",
    "In order to do this, a join must be conducted between the two dataframes on the listing IDs with an inner join. Since these dataframes are of considerable size, we want to avoid the shuffling conducted by a non-broadcasted joins. We subsequently group the joined dataframe by its month and year, showing us reviews over time."
   ]
  },
  {
   "cell_type": "code",
   "execution_count": 23,
   "metadata": {},
   "outputs": [],
   "source": [
    "#Joining\n",
    "#stockholm_rv = stockholm.join(reviews, stockholm.id == reviews.listing_id, 'inner').select(reviews.comments, stockholm.review_scores_rating).toPandas()\n",
    "popularity = stockholm.join(reviews, stockholm.id == reviews.listing_id, 'inner').select(stockholm.id, stockholm.neighbourhood, reviews.date)#('id','neighbourhood').join(reviews.select('listing_id','date'),(f.col('id') == f.col('listing_id')) , 'inner')"
   ]
  },
  {
   "cell_type": "code",
   "execution_count": 24,
   "metadata": {},
   "outputs": [],
   "source": [
    "#Grouping by month & neighborhood (for subsequent analysis)\n",
    "popularity = popularity.withColumn('month',\n",
    "              popularity['date'].substr(0, 7)\n",
    "     ).groupby('month','neighbourhood')\\\n",
    "      .agg(f.count('id').alias('nr_reviews')).orderBy('month')"
   ]
  },
  {
   "cell_type": "code",
   "execution_count": 25,
   "metadata": {},
   "outputs": [],
   "source": [
    "def plot_month(season=False):\n",
    "    plt.figure(figsize=(25, 10))\n",
    "    if season:\n",
    "        #Grouping again by month, disregarding year\n",
    "        df= popularity.withColumn('month',\n",
    "              popularity['month'].substr(6,7)\n",
    "     ).groupby('month')\\\n",
    "      .agg(f.sum('nr_reviews')).orderBy('month')\n",
    "    else:\n",
    "        #Grouping again by monthly total analysis\n",
    "        df = popularity.groupBy('month').agg(f.sum('nr_reviews')).orderBy('month')\n",
    "    sns.set_palette(sns.light_palette(\"navy\", reverse=True))\n",
    "    p = sns.barplot(x='month', y='sum(nr_reviews)', data =df.toPandas())\n",
    "    x = p.set_xticklabels(p.get_xticklabels(),rotation=45)\n",
    "    return p"
   ]
  },
  {
   "cell_type": "code",
   "execution_count": 26,
   "metadata": {},
   "outputs": [
    {
     "data": {
      "text/plain": [
       "<matplotlib.axes._subplots.AxesSubplot at 0x7fe5ce25cbe0>"
      ]
     },
     "execution_count": 26,
     "metadata": {},
     "output_type": "execute_result"
    },
    {
     "data": {
      "image/png": "[encoded data removed]",
      "text/plain": [
       "<Figure size 1800x720 with 1 Axes>"
      ]
     },
     "metadata": {
      "needs_background": "light"
     },
     "output_type": "display_data"
    }
   ],
   "source": [
    "plot_month()"
   ]
  },
  {
   "cell_type": "markdown",
   "metadata": {},
   "source": [
    "Compute and visualize the popularity of neighbourhoods over time. If there are many neighbourhoods in your city, you should select a few interesting ones for comparison."
   ]
  },
  {
   "cell_type": "code",
   "execution_count": 27,
   "metadata": {},
   "outputs": [],
   "source": [
    "def plot_neighborhood(neighborhood):\n",
    "    plt.figure(figsize=(25, 10))\n",
    "    sns.set_palette(sns.light_palette(\"navy\", reverse=True))\n",
    "    p = sns.barplot(x='month', y='nr_reviews', data =popularity.filter(f.col('neighbourhood')==neighborhood).toPandas())\n",
    "    x = p.set_xticklabels(p.get_xticklabels(),rotation=45)\n",
    "    return p"
   ]
  },
  {
   "cell_type": "code",
   "execution_count": 28,
   "metadata": {},
   "outputs": [
    {
     "data": {
      "text/plain": [
       "<matplotlib.axes._subplots.AxesSubplot at 0x7fe5cdb0b2e8>"
      ]
     },
     "execution_count": 28,
     "metadata": {},
     "output_type": "execute_result"
    },
    {
     "data": {
      "image/png": "[encoded data removed]",
      "text/plain": [
       "<Figure size 1800x720 with 1 Axes>"
      ]
     },
     "metadata": {
      "needs_background": "light"
     },
     "output_type": "display_data"
    }
   ],
   "source": [
    "plot_neighborhood('Södermalm')"
   ]
  },
  {
   "cell_type": "code",
   "execution_count": 29,
   "metadata": {},
   "outputs": [
    {
     "data": {
      "text/plain": [
       "<matplotlib.axes._subplots.AxesSubplot at 0x7fe5cd3ae0f0>"
      ]
     },
     "execution_count": 29,
     "metadata": {},
     "output_type": "execute_result"
    },
    {
     "data": {
      "image/png": "[encoded data removed]",
      "text/plain": [
       "<Figure size 1800x720 with 1 Axes>"
      ]
     },
     "metadata": {
      "needs_background": "light"
     },
     "output_type": "display_data"
    }
   ],
   "source": [
    "plot_neighborhood('Skarpnäck')"
   ]
  },
  {
   "cell_type": "code",
   "execution_count": 30,
   "metadata": {},
   "outputs": [
    {
     "data": {
      "text/plain": [
       "<matplotlib.axes._subplots.AxesSubplot at 0x7fe5cd0cdf60>"
      ]
     },
     "execution_count": 30,
     "metadata": {},
     "output_type": "execute_result"
    },
    {
     "data": {
      "image/png": "[encoded data removed]",
      "text/plain": [
       "<Figure size 1800x720 with 1 Axes>"
      ]
     },
     "metadata": {
      "needs_background": "light"
     },
     "output_type": "display_data"
    }
   ],
   "source": [
    "plot_neighborhood('Östermalm')"
   ]
  },
  {
   "cell_type": "markdown",
   "metadata": {},
   "source": [
    "Compute and visualize the popularity of your city by season. For example, visualize the popularity of your city per month."
   ]
  },
  {
   "cell_type": "code",
   "execution_count": 31,
   "metadata": {},
   "outputs": [
    {
     "data": {
      "text/plain": [
       "<matplotlib.axes._subplots.AxesSubplot at 0x7fe5ccd54550>"
      ]
     },
     "execution_count": 31,
     "metadata": {},
     "output_type": "execute_result"
    },
    {
     "data": {
      "image/png": "[encoded data removed]",
      "text/plain": [
       "<Figure size 1800x720 with 1 Axes>"
      ]
     },
     "metadata": {
      "needs_background": "light"
     },
     "output_type": "display_data"
    }
   ],
   "source": [
    "plot_month(season=True)"
   ]
  },
  {
   "cell_type": "markdown",
   "metadata": {},
   "source": [
    "## Reviews\n",
    "In this part you should determine which words used in reviews that are the most positive. \n",
    "\n",
    "The individual reviews do not have a rating of the listing, so we will assume that each review gave the average rating to the listing, i.e., the one on the listing.\n",
    "\n",
    "You should assign a positivity weight to each word seen in reviews and list the words with the highest weight. It is up to you to decide what the weight should be. For example, it can be a function of the rating on the listing on which it occurs, the number of reviews it occurs in, and the number of unique listings for which it was used to review.\n",
    "\n",
    "Depending on your choice of weight function, you may also want to do some filtering of words. For example, remove words that only occur in a few reviews."
   ]
  },
  {
   "cell_type": "markdown",
   "metadata": {},
   "source": [
    "We load a text file from github with positive words originally used for sentiment analysis. The appearance of an positive word in a sentence does not necessarily mean it is a positive review though. We rate the positivity of the words by counting how often they occur in the reviews and sum up the scores of the reviews the word appears in. Then to give the word a final rating we take the ratio between the score and occurrences. That way we can almost make sure these words are associated with a positive review. Note that these words are *strictly in English* and another sentiment analysis file must be used for other languages.\n",
    "We then create a function that takes in a dataframe that you would like to review. The function creates an empty dictionary and loops through every word of the review. If a word can be found in the positive text file, it gets added to the dictionary if it is not already there and gets the occurrence value of 1. If it the word is already present in the dictionary, its occurrence value becomes 1 greater and the score gets higher. We then sort the dataframe by the number of occurrences and then the score and finally the rating of the word. "
   ]
  },
  {
   "cell_type": "code",
   "execution_count": 32,
   "metadata": {},
   "outputs": [],
   "source": [
    "positive = pd.read_table('https://gist.githubusercontent.com/mkulakowski2/4289437/raw/1bb4d7f9ee82150f339f09b5b1a0e6823d633958/positive-words.txt',skiprows=36, header=None, names=['words'])"
   ]
  },
  {
   "cell_type": "code",
   "execution_count": 33,
   "metadata": {
    "scrolled": false
   },
   "outputs": [],
   "source": [
    "def positive_words(df):\n",
    "    word_dict = dict()\n",
    "    for index, row in df.iterrows():\n",
    "        for word in row['comments'].split():\n",
    "            if not word.isalpha():\n",
    "                word = ''.join(c for c in word if c.isalpha())\n",
    "            word = word.lower()\n",
    "            if word not in word_dict and word in positive['words'].values:\n",
    "                word_dict[word] = {'occurrences': 1, 'score': pd.to_numeric(row['review_scores_rating'])}\n",
    "            elif word in word_dict:\n",
    "                word_dict[word]['occurrences'] += 1\n",
    "                word_dict[word]['score'] += pd.to_numeric(row['review_scores_rating'])\n",
    "    return word_dict"
   ]
  },
  {
   "cell_type": "code",
   "execution_count": 34,
   "metadata": {},
   "outputs": [],
   "source": [
    "# Load in the data we want to use \n",
    "stockholm_rv = stockholm.join(reviews, stockholm.id == reviews.listing_id, 'inner').select(reviews.comments, stockholm.review_scores_rating).toPandas()"
   ]
  },
  {
   "cell_type": "code",
   "execution_count": 35,
   "metadata": {},
   "outputs": [],
   "source": [
    "word_dict = positive_words(stockholm_rv)"
   ]
  },
  {
   "cell_type": "code",
   "execution_count": 36,
   "metadata": {},
   "outputs": [
    {
     "data": {
      "text/html": [
       "<div>\n",
       "<style scoped>\n",
       "    .dataframe tbody tr th:only-of-type {\n",
       "        vertical-align: middle;\n",
       "    }\n",
       "\n",
       "    .dataframe tbody tr th {\n",
       "        vertical-align: top;\n",
       "    }\n",
       "\n",
       "    .dataframe thead th {\n",
       "        text-align: right;\n",
       "    }\n",
       "</style>\n",
       "<table border=\"1\" class=\"dataframe\">\n",
       "  <thead>\n",
       "    <tr style=\"text-align: right;\">\n",
       "      <th></th>\n",
       "      <th>occurrences</th>\n",
       "      <th>score</th>\n",
       "      <th>rating</th>\n",
       "    </tr>\n",
       "  </thead>\n",
       "  <tbody>\n",
       "    <tr>\n",
       "      <th>great</th>\n",
       "      <td>35128</td>\n",
       "      <td>3355398</td>\n",
       "      <td>95.519187</td>\n",
       "    </tr>\n",
       "    <tr>\n",
       "      <th>nice</th>\n",
       "      <td>25157</td>\n",
       "      <td>2391310</td>\n",
       "      <td>95.055452</td>\n",
       "    </tr>\n",
       "    <tr>\n",
       "      <th>clean</th>\n",
       "      <td>19083</td>\n",
       "      <td>1821582</td>\n",
       "      <td>95.455746</td>\n",
       "    </tr>\n",
       "    <tr>\n",
       "      <th>recommend</th>\n",
       "      <td>15880</td>\n",
       "      <td>1521033</td>\n",
       "      <td>95.782935</td>\n",
       "    </tr>\n",
       "    <tr>\n",
       "      <th>good</th>\n",
       "      <td>14307</td>\n",
       "      <td>1353461</td>\n",
       "      <td>94.601314</td>\n",
       "    </tr>\n",
       "    <tr>\n",
       "      <th>perfect</th>\n",
       "      <td>12939</td>\n",
       "      <td>1239709</td>\n",
       "      <td>95.811809</td>\n",
       "    </tr>\n",
       "    <tr>\n",
       "      <th>easy</th>\n",
       "      <td>12326</td>\n",
       "      <td>1175536</td>\n",
       "      <td>95.370436</td>\n",
       "    </tr>\n",
       "    <tr>\n",
       "      <th>well</th>\n",
       "      <td>12299</td>\n",
       "      <td>1174152</td>\n",
       "      <td>95.467274</td>\n",
       "    </tr>\n",
       "    <tr>\n",
       "      <th>comfortable</th>\n",
       "      <td>11495</td>\n",
       "      <td>1099356</td>\n",
       "      <td>95.637756</td>\n",
       "    </tr>\n",
       "    <tr>\n",
       "      <th>helpful</th>\n",
       "      <td>9768</td>\n",
       "      <td>933233</td>\n",
       "      <td>95.539824</td>\n",
       "    </tr>\n",
       "    <tr>\n",
       "      <th>lovely</th>\n",
       "      <td>8865</td>\n",
       "      <td>850452</td>\n",
       "      <td>95.933672</td>\n",
       "    </tr>\n",
       "    <tr>\n",
       "      <th>quiet</th>\n",
       "      <td>8213</td>\n",
       "      <td>785044</td>\n",
       "      <td>95.585535</td>\n",
       "    </tr>\n",
       "    <tr>\n",
       "      <th>friendly</th>\n",
       "      <td>7273</td>\n",
       "      <td>693232</td>\n",
       "      <td>95.315826</td>\n",
       "    </tr>\n",
       "    <tr>\n",
       "      <th>beautiful</th>\n",
       "      <td>7242</td>\n",
       "      <td>697323</td>\n",
       "      <td>96.288732</td>\n",
       "    </tr>\n",
       "    <tr>\n",
       "      <th>super</th>\n",
       "      <td>6950</td>\n",
       "      <td>665514</td>\n",
       "      <td>95.757410</td>\n",
       "    </tr>\n",
       "    <tr>\n",
       "      <th>wonderful</th>\n",
       "      <td>6021</td>\n",
       "      <td>579388</td>\n",
       "      <td>96.227869</td>\n",
       "    </tr>\n",
       "    <tr>\n",
       "      <th>like</th>\n",
       "      <td>5666</td>\n",
       "      <td>541207</td>\n",
       "      <td>95.518355</td>\n",
       "    </tr>\n",
       "    <tr>\n",
       "      <th>enjoyed</th>\n",
       "      <td>5322</td>\n",
       "      <td>509098</td>\n",
       "      <td>95.659151</td>\n",
       "    </tr>\n",
       "    <tr>\n",
       "      <th>cozy</th>\n",
       "      <td>4863</td>\n",
       "      <td>465197</td>\n",
       "      <td>95.660498</td>\n",
       "    </tr>\n",
       "    <tr>\n",
       "      <th>thank</th>\n",
       "      <td>4530</td>\n",
       "      <td>433380</td>\n",
       "      <td>95.668874</td>\n",
       "    </tr>\n",
       "    <tr>\n",
       "      <th>spacious</th>\n",
       "      <td>4443</td>\n",
       "      <td>426879</td>\n",
       "      <td>96.079001</td>\n",
       "    </tr>\n",
       "    <tr>\n",
       "      <th>excellent</th>\n",
       "      <td>4392</td>\n",
       "      <td>420921</td>\n",
       "      <td>95.838115</td>\n",
       "    </tr>\n",
       "    <tr>\n",
       "      <th>amazing</th>\n",
       "      <td>4266</td>\n",
       "      <td>410427</td>\n",
       "      <td>96.208861</td>\n",
       "    </tr>\n",
       "    <tr>\n",
       "      <th>best</th>\n",
       "      <td>3698</td>\n",
       "      <td>354971</td>\n",
       "      <td>95.989995</td>\n",
       "    </tr>\n",
       "    <tr>\n",
       "      <th>convenient</th>\n",
       "      <td>3669</td>\n",
       "      <td>349300</td>\n",
       "      <td>95.203053</td>\n",
       "    </tr>\n",
       "    <tr>\n",
       "      <th>recommended</th>\n",
       "      <td>3612</td>\n",
       "      <td>346421</td>\n",
       "      <td>95.908361</td>\n",
       "    </tr>\n",
       "    <tr>\n",
       "      <th>right</th>\n",
       "      <td>3437</td>\n",
       "      <td>328232</td>\n",
       "      <td>95.499564</td>\n",
       "    </tr>\n",
       "    <tr>\n",
       "      <th>loved</th>\n",
       "      <td>3428</td>\n",
       "      <td>330055</td>\n",
       "      <td>96.282089</td>\n",
       "    </tr>\n",
       "    <tr>\n",
       "      <th>fantastic</th>\n",
       "      <td>3278</td>\n",
       "      <td>315731</td>\n",
       "      <td>96.318182</td>\n",
       "    </tr>\n",
       "    <tr>\n",
       "      <th>warm</th>\n",
       "      <td>2774</td>\n",
       "      <td>265556</td>\n",
       "      <td>95.730353</td>\n",
       "    </tr>\n",
       "  </tbody>\n",
       "</table>\n",
       "</div>"
      ],
      "text/plain": [
       "             occurrences    score     rating\n",
       "great              35128  3355398  95.519187\n",
       "nice               25157  2391310  95.055452\n",
       "clean              19083  1821582  95.455746\n",
       "recommend          15880  1521033  95.782935\n",
       "good               14307  1353461  94.601314\n",
       "perfect            12939  1239709  95.811809\n",
       "easy               12326  1175536  95.370436\n",
       "well               12299  1174152  95.467274\n",
       "comfortable        11495  1099356  95.637756\n",
       "helpful             9768   933233  95.539824\n",
       "lovely              8865   850452  95.933672\n",
       "quiet               8213   785044  95.585535\n",
       "friendly            7273   693232  95.315826\n",
       "beautiful           7242   697323  96.288732\n",
       "super               6950   665514  95.757410\n",
       "wonderful           6021   579388  96.227869\n",
       "like                5666   541207  95.518355\n",
       "enjoyed             5322   509098  95.659151\n",
       "cozy                4863   465197  95.660498\n",
       "thank               4530   433380  95.668874\n",
       "spacious            4443   426879  96.079001\n",
       "excellent           4392   420921  95.838115\n",
       "amazing             4266   410427  96.208861\n",
       "best                3698   354971  95.989995\n",
       "convenient          3669   349300  95.203053\n",
       "recommended         3612   346421  95.908361\n",
       "right               3437   328232  95.499564\n",
       "loved               3428   330055  96.282089\n",
       "fantastic           3278   315731  96.318182\n",
       "warm                2774   265556  95.730353"
      ]
     },
     "execution_count": 36,
     "metadata": {},
     "output_type": "execute_result"
    }
   ],
   "source": [
    "word_df = pd.DataFrame(word_dict).T\n",
    "word_df['rating'] = word_df.apply(lambda row: row['score'] / row['occurrences'], axis=1)\n",
    "word_df.sort_values(by=['occurrences', 'score','rating'], ascending=False).head(30)"
   ]
  },
  {
   "cell_type": "code",
   "execution_count": null,
   "metadata": {},
   "outputs": [],
   "source": []
  },
  {
   "cell_type": "code",
   "execution_count": null,
   "metadata": {},
   "outputs": [],
   "source": []
  }
 ],
 "metadata": {
  "kernelspec": {
   "display_name": "Python 3",
   "language": "python",
   "name": "python3"
  },
  "language_info": {
   "codemirror_mode": {
    "name": "ipython",
    "version": 3
   },
   "file_extension": ".py",
   "mimetype": "text/x-python",
   "name": "python",
   "nbconvert_exporter": "python",
   "pygments_lexer": "ipython3",
   "version": "3.7.3"
  }
 },
 "nbformat": 4,
 "nbformat_minor": 2
}
